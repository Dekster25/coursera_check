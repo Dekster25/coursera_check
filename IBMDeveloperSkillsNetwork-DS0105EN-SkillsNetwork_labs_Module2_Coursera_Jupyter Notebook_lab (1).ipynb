{
  "metadata": {
    "language_info": {
      "codemirror_mode": {
        "name": "python",
        "version": 3
      },
      "file_extension": ".py",
      "mimetype": "text/x-python",
      "name": "python",
      "nbconvert_exporter": "python",
      "pygments_lexer": "ipython3",
      "version": "3.8"
    },
    "kernelspec": {
      "name": "python",
      "display_name": "Pyolite",
      "language": "python"
    }
  },
  "nbformat_minor": 4,
  "nbformat": 4,
  "cells": [
    {
      "cell_type": "markdown",
      "source": "# My Jupyter Notebook on IBM Watson Studio",
      "metadata": {}
    },
    {
      "cell_type": "markdown",
      "source": "__Karina Paula-Freimane__ Scrum Master",
      "metadata": {}
    },
    {
      "cell_type": "markdown",
      "source": "_I am interested in data science because smth i need to gather data about teams performance_",
      "metadata": {}
    },
    {
      "cell_type": "markdown",
      "source": "### simple math operation",
      "metadata": {}
    },
    {
      "cell_type": "code",
      "source": "1+1",
      "metadata": {
        "trusted": true
      },
      "execution_count": 3,
      "outputs": [
        {
          "execution_count": 3,
          "output_type": "execute_result",
          "data": {
            "text/plain": "2"
          },
          "metadata": {}
        }
      ]
    },
    {
      "cell_type": "markdown",
      "source": "| Nr | Name | Link |\n| ------ | ------ | ------ |\n| 1 | Karina | <a href=\"https://www.thebump.com/b/karina-baby-name\">What does the name mean</a> |\n| 2 | Marta | <a href=\"https://www.thebump.com/b/search?name=Marta\">What does the name mean</a> |",
      "metadata": {}
    },
    {
      "cell_type": "code",
      "source": "",
      "metadata": {},
      "execution_count": null,
      "outputs": []
    }
  ]
}